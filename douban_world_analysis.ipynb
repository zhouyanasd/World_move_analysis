{
 "cells": [
  {
   "cell_type": "markdown",
   "metadata": {},
   "source": [
    "# Douban_world_movies_analysis"
   ]
  },
  {
   "cell_type": "markdown",
   "metadata": {},
   "source": [
    "## Import data"
   ]
  },
  {
   "cell_type": "code",
   "execution_count": null,
   "metadata": {},
   "outputs": [],
   "source": [
    "import warnings\n",
    "warnings.filterwarnings('ignore')\n",
    "\n",
    "import pandas as pd\n",
    "import numpy as np\n",
    "import re\n",
    "from datetime import datetime\n",
    "from zhtools import langconv"
   ]
  },
  {
   "cell_type": "code",
   "execution_count": null,
   "metadata": {},
   "outputs": [],
   "source": [
    "import matplotlib.pyplot as plt\n",
    "import seaborn as sns\n",
    "import altair as alt\n",
    "alt.renderers.enable('notebook')\n",
    "%matplotlib inline\n",
    "\n",
    "plt.rcParams['font.sans-serif'] = ['SimHei']  # 中文字体设置-黑体\n",
    "plt.rcParams['axes.unicode_minus'] = False  # 解决保存图像是负号'-'显示为方块的问题\n",
    "sns.set(font='SimHei')  # 解决Seaborn中文显示问题"
   ]
  },
  {
   "cell_type": "code",
   "execution_count": null,
   "metadata": {
    "scrolled": false
   },
   "outputs": [],
   "source": [
    "#data = pd.read_csv(\"douban_data/douban-world-moive-raw-data.csv\",error_bad_lines=False)\n",
    "data = pd.read_csv(\"../douban-world-moive-raw-data.csv\")"
   ]
  },
  {
   "cell_type": "code",
   "execution_count": null,
   "metadata": {
    "scrolled": true
   },
   "outputs": [],
   "source": [
    "data.count()"
   ]
  },
  {
   "cell_type": "markdown",
   "metadata": {},
   "source": [
    "## Dispose of data"
   ]
  },
  {
   "cell_type": "markdown",
   "metadata": {},
   "source": [
    "剔除以下关键信息缺失的影片:\n",
    "* actor 演员\n",
    "* date 上映时间\n",
    "* director 导演\n",
    "* language 语言\n",
    "* type 类型\n",
    "* region 地区"
   ]
  },
  {
   "cell_type": "code",
   "execution_count": null,
   "metadata": {},
   "outputs": [],
   "source": [
    "cond = ((data['actor'].isnull()) | (data['actor']=='[]')| (data['date'].isnull()) | (data['date']=='[]') | \n",
    "        (data['director'].isnull()) | (data['director']=='[]')| (data['language'].isnull()) | (data['language']=='[]') | \n",
    "        (data['type'].isnull()) | (data['type']=='[]')| (data['region'].isnull()) | (data['region']=='[]'))"
   ]
  },
  {
   "cell_type": "code",
   "execution_count": null,
   "metadata": {},
   "outputs": [],
   "source": [
    "data1 = data.loc[~cond]\n",
    "data1.shape"
   ]
  },
  {
   "cell_type": "code",
   "execution_count": null,
   "metadata": {},
   "outputs": [],
   "source": [
    "# 将str转为list\n",
    "list_col = ['actor','date','director','language','region','type']\n",
    "for col in list_col:\n",
    "    data1[col] = data1[col].apply(lambda x:[i.strip().strip(\"'\") for i in x[1:-1].split(\",\")])"
   ]
  },
  {
   "cell_type": "code",
   "execution_count": null,
   "metadata": {},
   "outputs": [],
   "source": [
    "data1.iloc[0].T"
   ]
  },
  {
   "cell_type": "markdown",
   "metadata": {},
   "source": [
    "### Year"
   ]
  },
  {
   "cell_type": "code",
   "execution_count": null,
   "metadata": {},
   "outputs": [],
   "source": [
    "data_selected = data1[data1['year'].str.contains(r'\\b\\d{4}\\b',na=False,regex=True)]"
   ]
  },
  {
   "cell_type": "code",
   "execution_count": null,
   "metadata": {},
   "outputs": [],
   "source": [
    "data_selected = data_selected[data_selected['year'].str.contains(r'^(191[3-9])|^(19[2-9]\\d)|^(202[0])|^(20[0-1]\\d)$',na=False,regex=True)]"
   ]
  },
  {
   "cell_type": "code",
   "execution_count": null,
   "metadata": {
    "scrolled": false
   },
   "outputs": [],
   "source": [
    "year_count = data_selected['year'].value_counts().reset_index()\n",
    "year_count.columns = ['year','count']\n",
    "year_count = year_count.sort_values('year')\n",
    "year_count.head()"
   ]
  },
  {
   "cell_type": "markdown",
   "metadata": {},
   "source": [
    "### Region"
   ]
  },
  {
   "cell_type": "code",
   "execution_count": null,
   "metadata": {},
   "outputs": [],
   "source": [
    "#  [法国 / 波兰 / 瑞士] 转为 ['法国','波兰' ,'瑞士']\n",
    "data_selected['region'] = data_selected['region'].map(lambda x:\"\".join(x).split(\"/\"))\n",
    "data_selected['region'] = data_selected['region'].map(lambda x :[i.strip() for i in x])"
   ]
  },
  {
   "cell_type": "code",
   "execution_count": null,
   "metadata": {},
   "outputs": [],
   "source": [
    "region_set = set()\n",
    "for each in data_selected['region']:\n",
    "    for i in each:\n",
    "        region_set.add(i)"
   ]
  },
  {
   "cell_type": "code",
   "execution_count": null,
   "metadata": {},
   "outputs": [],
   "source": [
    "# 可以从上面看到同一个国家会有多个表达\n",
    "# 对于中英混合的表达转换为纯中文，且将繁体转换为中文\n",
    "def ZhEn2Zh(x):\n",
    "    pattern = re.compile(\"[一-龥]+\")\n",
    "    if pattern.match(x):\n",
    "        x = re.sub(\"[^一-龥]+\",\"\", x)   \n",
    "    # 繁体转换为简体\n",
    "    x = langconv.Converter('zh-hans').convert(x)     \n",
    "    return x"
   ]
  },
  {
   "cell_type": "code",
   "execution_count": null,
   "metadata": {},
   "outputs": [],
   "source": [
    "data_selected['region'] = data_selected['region'].map(lambda x: [ZhEn2Zh(i) for i in x])"
   ]
  },
  {
   "cell_type": "code",
   "execution_count": null,
   "metadata": {},
   "outputs": [],
   "source": [
    "# 对于英文的表达，选一些主流地区进行转换\n",
    "region_dict = {\"America\":\"美国\",\"American\":\"美国\",\"US\":\"美国\",\"U.S.A\":\"美国\",\"USA\":\"美国\",\"usa\":\"美国\",\n",
    "               \"United States USA\":\"美国\",\"Argentina\":\"阿根廷\",\"Argentina)\":\"阿根廷\",\"Mexico\":\"墨西哥\",\n",
    "               \"Canada\":\"加拿大\",\"CANADA\":\"加拿大\",\"(Canada)\":\"加拿大\",\"Brazil\":\"巴西\",\"Brasil\":\"巴西\",\n",
    "               \"BBC\":\"英国\",\"UK\":\"英国\",\"uk\":\"英国\",\n",
    "               \"Australia\":\"澳大利亚\",\"Austria\":\"澳大利亚\",                             \n",
    "               \"china\":\"中国\",\"China\":\"中国\",\"中国杭州\":\"中国\",\n",
    "               \"India\":\"印度\",\"india\":\"印度\",\"Japan\":\"日本\",\"South Korea\":\"韩国\",\n",
    "               \"(Spain)\":\"西班牙\",\"Spain\":\"西班牙\",\"Germany\":\"德国\",\"Germany Germany\":\"德国\",\n",
    "               \"Sweden\":\"瑞典\",\"sweden\":\"瑞典\",\"France\":\"法国\",\"Franch\":\"法国\",\"Italy\":\"意大利\",\n",
    "               \"Russia\":\"俄罗斯\",\"Russian\":\"俄罗斯\",\"Russion\":\"俄罗斯\",\n",
    "               \"俄国\":\"俄罗斯\",\"俄语\":\"俄罗斯\",\"Soviet Union\":\"苏联\",\n",
    "               \"印尼\":\"印度尼西亚\",\"(Indonesia)\":\"印度尼西亚\",\"Indonesia\":\"印度尼西亚\",\"indonesia\":\"印度尼西亚\"}\n",
    "\n",
    "def region_update(x):\n",
    "    if x in region_dict:\n",
    "        x = region_dict[x]\n",
    "    return x"
   ]
  },
  {
   "cell_type": "code",
   "execution_count": null,
   "metadata": {},
   "outputs": [],
   "source": [
    "data_selected['region'] = data_selected['region'].map(lambda x: [region_update(i) for i in x])"
   ]
  },
  {
   "cell_type": "code",
   "execution_count": null,
   "metadata": {},
   "outputs": [],
   "source": [
    "# region_set_after = set()\n",
    "# for each in data_selected['region']:\n",
    "#     for i in each:\n",
    "#         region_set1_after.add(i)\n",
    "# region_set_after"
   ]
  },
  {
   "cell_type": "code",
   "execution_count": null,
   "metadata": {},
   "outputs": [],
   "source": [
    "region_year_list = []\n",
    "for row in zip(data_selected['region'].tolist(),data_selected['year'].tolist()):\n",
    "    region = row[0]\n",
    "    year = row[1]\n",
    "    for i in region:\n",
    "        region_year_list.append([i,year])"
   ]
  },
  {
   "cell_type": "code",
   "execution_count": null,
   "metadata": {},
   "outputs": [],
   "source": [
    "df_region_year = pd.DataFrame(region_year_list)\n",
    "df_region_year.columns = ['region','year']\n",
    "df_region_year.head(1)"
   ]
  },
  {
   "cell_type": "code",
   "execution_count": null,
   "metadata": {},
   "outputs": [],
   "source": [
    "region_count = df_region_year['region'].value_counts().reset_index()\n",
    "region_count.columns = ['region','count']\n",
    "region_count = region_count.sort_values('count',ascending=False)\n",
    "region_count.head()"
   ]
  },
  {
   "cell_type": "markdown",
   "metadata": {},
   "source": [
    "### Region trend"
   ]
  },
  {
   "cell_type": "code",
   "execution_count": null,
   "metadata": {},
   "outputs": [],
   "source": [
    "region_count_year = df_region_year.groupby(['region','year']).agg({\"region\":\"count\"})\n",
    "region_count_year.columns = ['count']\n",
    "region_count_year = region_count_year.reset_index()"
   ]
  },
  {
   "cell_type": "markdown",
   "metadata": {},
   "source": [
    "### Type"
   ]
  },
  {
   "cell_type": "code",
   "execution_count": null,
   "metadata": {},
   "outputs": [],
   "source": [
    "type_set = set()\n",
    "for each in data_selected['type']:\n",
    "    for i in each:\n",
    "        type_set.add(i)\n",
    "#type_set"
   ]
  },
  {
   "cell_type": "code",
   "execution_count": null,
   "metadata": {},
   "outputs": [],
   "source": [
    "# 可以从上面看到中文和英文的混合，以及繁体\n",
    "# 对于中英混合的表达转换为纯中文，且将繁体转换为中文\n",
    "data_selected['type'] = data_selected['type'].map(lambda x: [ZhEn2Zh(i) for i in x])"
   ]
  },
  {
   "cell_type": "code",
   "execution_count": null,
   "metadata": {},
   "outputs": [],
   "source": [
    "# type_set_after = set()\n",
    "# for each in data_selected['type']:\n",
    "#     for i in each:\n",
    "#         type_set_after.add(i)\n",
    "# type_set_after"
   ]
  },
  {
   "cell_type": "code",
   "execution_count": null,
   "metadata": {},
   "outputs": [],
   "source": [
    "type_count_dict = {}\n",
    "for row in data_selected['type'].tolist():\n",
    "    for i in row:\n",
    "        type_count_dict[i] = type_count_dict.get(i,0) + 1"
   ]
  },
  {
   "cell_type": "code",
   "execution_count": null,
   "metadata": {},
   "outputs": [],
   "source": [
    "type_count = pd.DataFrame.from_dict(type_count_dict, orient='index').reset_index()\n",
    "type_count.columns = ['type','count']\n",
    "type_count = type_count.sort_values('count',ascending=False)\n",
    "type_count.head()"
   ]
  },
  {
   "cell_type": "markdown",
   "metadata": {},
   "source": [
    "### Month"
   ]
  },
  {
   "cell_type": "code",
   "execution_count": null,
   "metadata": {},
   "outputs": [],
   "source": [
    "def extract_month(x):\n",
    "    x = x[0]\n",
    "    # 例如'1993-09-08(法国)'\n",
    "    pattern = re.compile(\"(\\d{4})-(\\d{1,2})-(\\d{1,2})\")\n",
    "    m = pattern.match(x)\n",
    "    if m:\n",
    "        return str(datetime.strptime(m.group(), \"%Y-%m-%d\").month)\n",
    "    else:\n",
    "        # 例如'1979-07(中国大陆)'\n",
    "        pattern2 = re.compile(\"(\\d{4})-(\\d{1,2})\")\n",
    "        m2 = pattern2.match(x)\n",
    "        if m2:\n",
    "            return str(datetime.strptime(m2.group(), \"%Y-%m\").month)"
   ]
  },
  {
   "cell_type": "code",
   "execution_count": null,
   "metadata": {},
   "outputs": [],
   "source": [
    "data_selected['month'] = data_selected['date'].apply(lambda x:extract_month(x))"
   ]
  },
  {
   "cell_type": "code",
   "execution_count": null,
   "metadata": {},
   "outputs": [],
   "source": [
    "month_count = data_selected['month'].value_counts().reset_index()\n",
    "month_count.columns = ['month','count']\n",
    "month_count.head()"
   ]
  },
  {
   "cell_type": "markdown",
   "metadata": {},
   "source": [
    "### month_region"
   ]
  },
  {
   "cell_type": "code",
   "execution_count": null,
   "metadata": {},
   "outputs": [],
   "source": [
    "region_month_list = []\n",
    "for row in zip(data_selected['region'].tolist(),data_selected['month'].tolist()):\n",
    "    region = row[0]\n",
    "    month = row[1]\n",
    "    for i in region:\n",
    "        region_month_list.append([i,month])"
   ]
  },
  {
   "cell_type": "code",
   "execution_count": null,
   "metadata": {},
   "outputs": [],
   "source": [
    "df_region_month = pd.DataFrame(region_month_list)\n",
    "df_region_month.columns = ['region','month']\n",
    "df_region_month.head(1)"
   ]
  },
  {
   "cell_type": "code",
   "execution_count": null,
   "metadata": {},
   "outputs": [],
   "source": [
    "region_count_month = df_region_month.groupby(['region','month']).agg({\"region\":\"count\"})\n",
    "region_count_month.columns = ['count']\n",
    "region_count_month = region_count_month.reset_index()"
   ]
  },
  {
   "cell_type": "code",
   "execution_count": null,
   "metadata": {},
   "outputs": [],
   "source": [
    "region_selected = region_count[:10]['region'].tolist()"
   ]
  },
  {
   "cell_type": "code",
   "execution_count": null,
   "metadata": {},
   "outputs": [],
   "source": [
    "region_count_month = region_count_month.loc[region_count_month['region'].isin(region_selected)].sort_values(['region','month'])\n",
    "region_count_month.head()"
   ]
  },
  {
   "cell_type": "markdown",
   "metadata": {},
   "source": [
    "### rate"
   ]
  },
  {
   "cell_type": "code",
   "execution_count": null,
   "metadata": {},
   "outputs": [],
   "source": [
    "data_selected_rate = data_selected.drop(data_selected[np.isnan(data_selected['rate'])].index)\n",
    "data_selected_rate.rate = data_selected_rate.rate.astype(float)"
   ]
  },
  {
   "cell_type": "markdown",
   "metadata": {},
   "source": [
    "### rate_region"
   ]
  },
  {
   "cell_type": "code",
   "execution_count": null,
   "metadata": {},
   "outputs": [],
   "source": [
    "region_rate_list = []\n",
    "for row in zip(data_selected_rate['region'].tolist(),data_selected_rate['rate'].tolist()):\n",
    "    region = row[0]\n",
    "    rate = row[1]\n",
    "    for i in region:\n",
    "        region_rate_list.append([i,rate])"
   ]
  },
  {
   "cell_type": "code",
   "execution_count": null,
   "metadata": {},
   "outputs": [],
   "source": [
    "df_region_rate = pd.DataFrame(region_rate_list)\n",
    "df_region_rate.columns = ['region','rate']\n",
    "df_region_rate.head(1)"
   ]
  },
  {
   "cell_type": "code",
   "execution_count": null,
   "metadata": {},
   "outputs": [],
   "source": [
    "region_selected = region_count[:20]['region'].tolist()"
   ]
  },
  {
   "cell_type": "code",
   "execution_count": null,
   "metadata": {},
   "outputs": [],
   "source": [
    "mean_rate_region = df_region_rate.loc[df_region_rate['region'].isin(region_selected)].groupby('region').agg({\"rate\":\"mean\"}).sort_values(\"rate\",ascending=False)"
   ]
  },
  {
   "cell_type": "code",
   "execution_count": null,
   "metadata": {},
   "outputs": [],
   "source": [
    "mean_rate_region = pd.merge(mean_rate_region,region_count,on=['region'],how='left').sort_values('count',ascending=False)"
   ]
  },
  {
   "cell_type": "code",
   "execution_count": null,
   "metadata": {},
   "outputs": [],
   "source": [
    "mean_rate_region.head()"
   ]
  },
  {
   "cell_type": "markdown",
   "metadata": {},
   "source": [
    "### time"
   ]
  },
  {
   "cell_type": "code",
   "execution_count": null,
   "metadata": {},
   "outputs": [],
   "source": [
    "data_selected_time = data_selected[data_selected.runtime.str.contains(r'(\\d{1,3})',na=False,regex=True)]\n",
    "time = data_selected_time.runtime.str.extract(r'(\\d{1,3})')"
   ]
  },
  {
   "cell_type": "code",
   "execution_count": null,
   "metadata": {},
   "outputs": [],
   "source": [
    "data_selected_time['runtime'] = time.astype(int)\n",
    "data_selected_time = data_selected_time[data_selected_time.runtime<=300]"
   ]
  },
  {
   "cell_type": "code",
   "execution_count": null,
   "metadata": {
    "scrolled": false
   },
   "outputs": [],
   "source": [
    "data_selected_time.head()"
   ]
  },
  {
   "cell_type": "markdown",
   "metadata": {},
   "source": [
    "### time_region"
   ]
  },
  {
   "cell_type": "code",
   "execution_count": null,
   "metadata": {},
   "outputs": [],
   "source": [
    "region_runtime_list = []\n",
    "for row in zip(data_selected_time['region'].tolist(),data_selected_time['runtime'].tolist()):\n",
    "    region = row[0]\n",
    "    runtime = row[1]\n",
    "    for i in region:\n",
    "        region_runtime_list.append([i,runtime])"
   ]
  },
  {
   "cell_type": "code",
   "execution_count": null,
   "metadata": {},
   "outputs": [],
   "source": [
    "df_region_runtime = pd.DataFrame(region_runtime_list)\n",
    "df_region_runtime.columns = ['region','runtime']\n",
    "df_region_runtime.head(1)"
   ]
  },
  {
   "cell_type": "code",
   "execution_count": null,
   "metadata": {},
   "outputs": [],
   "source": [
    "mean_time_region = df_region_runtime.loc[df_region_runtime['region'].isin(region_selected)].groupby('region').agg({\"runtime\":\"mean\"}).sort_values(\"runtime\",ascending=False)"
   ]
  },
  {
   "cell_type": "code",
   "execution_count": null,
   "metadata": {},
   "outputs": [],
   "source": [
    "mean_time_region = pd.merge(mean_time_region,region_count,on=['region'],how='left').sort_values('count',ascending=False)"
   ]
  },
  {
   "cell_type": "code",
   "execution_count": null,
   "metadata": {},
   "outputs": [],
   "source": [
    "mean_time_region.head()"
   ]
  },
  {
   "cell_type": "markdown",
   "metadata": {},
   "source": [
    "### rate_time_month_region"
   ]
  },
  {
   "cell_type": "code",
   "execution_count": null,
   "metadata": {},
   "outputs": [],
   "source": [
    "data_selected_rate_time_month = data_selected.drop(data_selected[np.isnan(data_selected['rate'])].index)\n",
    "data_selected_rate_time_month.rate = data_selected_rate_time_month.rate.astype(float)\n",
    "data_selected_rate_time_month = data_selected_rate_time_month[data_selected_rate_time_month.runtime.str.contains(r'(\\d{1,3})',na=False,regex=True)]\n",
    "time = data_selected_rate_time_month.runtime.str.extract(r'(\\d{1,3})')\n",
    "data_selected_rate_time_month['runtime'] = time.astype(int)\n",
    "data_selected_rate_time_month = data_selected_rate_time_month[data_selected_rate_time_month.runtime<=300]"
   ]
  },
  {
   "cell_type": "code",
   "execution_count": null,
   "metadata": {},
   "outputs": [],
   "source": [
    "data_selected_rate_time_month.head()"
   ]
  },
  {
   "cell_type": "code",
   "execution_count": null,
   "metadata": {},
   "outputs": [],
   "source": [
    "data_selected_rate_time_month_region = pd.DataFrame()\n",
    "for i in region_count.reset_index().sort_values(by = 'count',ascending=False)[:10]['index'] :\n",
    "    data_selected_temp = data_selected_rate_time_month[data_selected_rate_time_month['region'].str.contains(i,na=False,regex=False)]\n",
    "    data_selected_temp.region = i\n",
    "    data_selected_rate_time_month_region = data_selected_rate_time_month_region.append(data_selected_temp)"
   ]
  },
  {
   "cell_type": "markdown",
   "metadata": {},
   "source": [
    "## Plot"
   ]
  },
  {
   "cell_type": "markdown",
   "metadata": {},
   "source": [
    "### Overall"
   ]
  },
  {
   "cell_type": "code",
   "execution_count": null,
   "metadata": {},
   "outputs": [],
   "source": [
    "year_selected = list(range(1913,1998,5)) + list(range(1998,2021,1))\n",
    "year_selected = [str(x) for x in year_range]\n",
    "data_selected_year = data_selected.loc[data_selected['year'].isin(year_selected)]"
   ]
  },
  {
   "cell_type": "code",
   "execution_count": null,
   "metadata": {
    "scrolled": false
   },
   "outputs": [],
   "source": [
    "figsize = 20,30\n",
    "figure, ax = plt.subplots(figsize=figsize)\n",
    "sns.countplot(y='year', data=data_selected_year.sort_values(by='year',ascending=False), orient=\"v\")\n",
    "plt.show()"
   ]
  },
  {
   "cell_type": "markdown",
   "metadata": {},
   "source": [
    "### region"
   ]
  },
  {
   "cell_type": "code",
   "execution_count": null,
   "metadata": {},
   "outputs": [],
   "source": [
    "figsize = 20,30\n",
    "figure, ax = plt.subplots(figsize=figsize)\n",
    "# sns.countplot(y='index',data=region_count.reset_index().sort_values(by = 'count',ascending=False)[:20], orient=\"v\")\n",
    "ax = sns.barplot(x=\"count\", y=\"region\", data=region_count[:20])\n",
    "plt.show()"
   ]
  },
  {
   "cell_type": "markdown",
   "metadata": {},
   "source": [
    "### region_trend"
   ]
  },
  {
   "cell_type": "code",
   "execution_count": null,
   "metadata": {},
   "outputs": [],
   "source": [
    "main_region = region_count[:10]['region'].tolist()\n",
    "main_region"
   ]
  },
  {
   "cell_type": "code",
   "execution_count": null,
   "metadata": {},
   "outputs": [],
   "source": [
    "region_count_year_selected = region_count_year.loc[region_count_year['region'].isin(main_region)]"
   ]
  },
  {
   "cell_type": "code",
   "execution_count": null,
   "metadata": {
    "scrolled": false
   },
   "outputs": [],
   "source": [
    "alt.Chart(region_count_year_selected).mark_line().encode(\n",
    "    x='year',\n",
    "    y='count',\n",
    "    color=alt.Color('region', legend=alt.Legend(orient=\"right\")),\n",
    ").configure_view(\n",
    "    height=600,\n",
    "    width=400,\n",
    ")"
   ]
  },
  {
   "cell_type": "code",
   "execution_count": null,
   "metadata": {},
   "outputs": [],
   "source": [
    "top3 = ['美国','日本','中国大陆']\n",
    "df = region_count_year_selected.loc[(region_count_year_selected['region'].isin(top3)) &\n",
    "                                     (region_count_year_selected['year'].isin(year_selected))]"
   ]
  },
  {
   "cell_type": "code",
   "execution_count": null,
   "metadata": {
    "scrolled": false
   },
   "outputs": [],
   "source": [
    "figsize = 20,30\n",
    "figure, ax = plt.subplots(figsize=figsize)\n",
    "sns.barplot(y='region', x=\"count\", hue='year', data=df, orient=\"h\")\n",
    "plt.show()"
   ]
  },
  {
   "cell_type": "markdown",
   "metadata": {},
   "source": [
    "### type"
   ]
  },
  {
   "cell_type": "code",
   "execution_count": null,
   "metadata": {},
   "outputs": [],
   "source": [
    "figsize = 20,30\n",
    "figure, ax = plt.subplots(figsize=figsize)\n",
    "ax = sns.barplot(x=\"count\", y=\"type\", data=type_count.reset_index().sort_values(by = 'count',ascending=False)[:25])\n",
    "plt.show()"
   ]
  },
  {
   "cell_type": "markdown",
   "metadata": {},
   "source": [
    "### month"
   ]
  },
  {
   "cell_type": "code",
   "execution_count": null,
   "metadata": {},
   "outputs": [],
   "source": [
    "month_count['month'] = month_count['month'].apply(lambda x:int(x))\n",
    "month_count = month_count.sort_values('month')\n",
    "month_count.sort_values('count',ascending=False)"
   ]
  },
  {
   "cell_type": "code",
   "execution_count": null,
   "metadata": {},
   "outputs": [],
   "source": [
    "figsize = 20,10\n",
    "figure, ax = plt.subplots(figsize=figsize)\n",
    "sns.barplot(x='month',y='count',data=month_count, orient=\"v\")\n",
    "plt.show()"
   ]
  },
  {
   "cell_type": "markdown",
   "metadata": {},
   "source": [
    "### month region"
   ]
  },
  {
   "cell_type": "code",
   "execution_count": null,
   "metadata": {},
   "outputs": [],
   "source": [
    "region_count_month['month'] = region_count_month['month'].apply(lambda x:int(x))\n",
    "region_count_month.sort_values(['region','month'],inplace=True)"
   ]
  },
  {
   "cell_type": "code",
   "execution_count": null,
   "metadata": {
    "scrolled": true
   },
   "outputs": [],
   "source": [
    "figsize = 20,30\n",
    "figure, ax = plt.subplots(figsize=figsize)\n",
    "sns.barplot(y='region', x=\"count\", hue='month', data=region_count_month, orient=\"h\")\n",
    "plt.show()"
   ]
  },
  {
   "cell_type": "code",
   "execution_count": null,
   "metadata": {
    "scrolled": true
   },
   "outputs": [],
   "source": [
    "alt.data_transformers.enable('default', max_rows=None)\n",
    "alt.Chart(region_count_month).mark_bar().encode(\n",
    "    x=alt.X('sum(count)', stack=\"normalize\"),\n",
    "    y='region',\n",
    "    color='month:N',\n",
    "    order=alt.Order(\n",
    "      'month',\n",
    "      sort='ascending'\n",
    "    )\n",
    ")"
   ]
  },
  {
   "cell_type": "markdown",
   "metadata": {},
   "source": [
    "### rate"
   ]
  },
  {
   "cell_type": "code",
   "execution_count": null,
   "metadata": {},
   "outputs": [],
   "source": [
    "figsize = 30,20\n",
    "figure, ax = plt.subplots(figsize=figsize)\n",
    "sns.countplot(x='rate', data=data_selected_rate.sort_values(by='rate',ascending=False), orient=\"v\")\n",
    "# sns.distplot(data_selected_rate.rate)\n",
    "plt.show()"
   ]
  },
  {
   "cell_type": "code",
   "execution_count": null,
   "metadata": {
    "scrolled": true
   },
   "outputs": [],
   "source": [
    "data_selected_rate.rate.mean()"
   ]
  },
  {
   "cell_type": "markdown",
   "metadata": {},
   "source": [
    "### rate_region"
   ]
  },
  {
   "cell_type": "code",
   "execution_count": null,
   "metadata": {},
   "outputs": [],
   "source": [
    "mean_rate_region.head()"
   ]
  },
  {
   "cell_type": "code",
   "execution_count": null,
   "metadata": {
    "scrolled": false
   },
   "outputs": [],
   "source": [
    "figsize = 20,10\n",
    "figure, ax = plt.subplots(figsize=figsize)\n",
    "ax = sns.barplot(x='region',y= 'rate',data=mean_rate_region)\n",
    "plt.show()"
   ]
  },
  {
   "cell_type": "markdown",
   "metadata": {},
   "source": [
    "### time"
   ]
  },
  {
   "cell_type": "code",
   "execution_count": null,
   "metadata": {},
   "outputs": [],
   "source": [
    "figsize = 20,10\n",
    "figure, ax = plt.subplots(figsize=figsize)\n",
    "sns.distplot(data_selected_time.runtime)\n",
    "plt.show()"
   ]
  },
  {
   "cell_type": "markdown",
   "metadata": {},
   "source": [
    "### time_region"
   ]
  },
  {
   "cell_type": "code",
   "execution_count": null,
   "metadata": {},
   "outputs": [],
   "source": [
    "mean_time_region"
   ]
  },
  {
   "cell_type": "code",
   "execution_count": null,
   "metadata": {
    "scrolled": false
   },
   "outputs": [],
   "source": [
    "figsize = 20,10\n",
    "figure, ax = plt.subplots(figsize=figsize)\n",
    "ax = sns.barplot(x='region',y= 'runtime',data=mean_time_region)\n",
    "plt.show()"
   ]
  },
  {
   "cell_type": "markdown",
   "metadata": {},
   "source": [
    "### rate_time_month_region"
   ]
  },
  {
   "cell_type": "code",
   "execution_count": null,
   "metadata": {},
   "outputs": [],
   "source": [
    "# iris = sns.load_dataset(\"iris\")\n",
    "g = sns.PairGrid(data_selected_rate_time_month_region , hue='region', vars=[\"month\", \"rate\",\"runtime\"])\n",
    "# g = g.map(plt.scatter)\n",
    "# g = g.map_upper(plt.scatter)\n",
    "# g = g.map_lower(sns.kdeplot, cmap=\"Blues_d\")\n",
    "g = g.map_diag(plt.hist)\n",
    "g = g.map_offdiag(plt.scatter)\n",
    "g = g.add_legend()\n",
    "plt.show()"
   ]
  }
 ],
 "metadata": {
  "hide_input": false,
  "kernelspec": {
   "display_name": "Python 3",
   "language": "python",
   "name": "python3"
  },
  "language_info": {
   "codemirror_mode": {
    "name": "ipython",
    "version": 3
   },
   "file_extension": ".py",
   "mimetype": "text/x-python",
   "name": "python",
   "nbconvert_exporter": "python",
   "pygments_lexer": "ipython3",
   "version": "3.7.1"
  },
  "toc": {
   "base_numbering": 1,
   "nav_menu": {},
   "number_sections": true,
   "sideBar": true,
   "skip_h1_title": false,
   "title_cell": "Table of Contents",
   "title_sidebar": "Contents",
   "toc_cell": false,
   "toc_position": {
    "height": "calc(100% - 180px)",
    "left": "10px",
    "top": "150px",
    "width": "258.4px"
   },
   "toc_section_display": true,
   "toc_window_display": false
  },
  "varInspector": {
   "cols": {
    "lenName": 16,
    "lenType": 16,
    "lenVar": 40
   },
   "kernels_config": {
    "python": {
     "delete_cmd_postfix": "",
     "delete_cmd_prefix": "del ",
     "library": "var_list.py",
     "varRefreshCmd": "print(var_dic_list())"
    },
    "r": {
     "delete_cmd_postfix": ") ",
     "delete_cmd_prefix": "rm(",
     "library": "var_list.r",
     "varRefreshCmd": "cat(var_dic_list()) "
    }
   },
   "types_to_exclude": [
    "module",
    "function",
    "builtin_function_or_method",
    "instance",
    "_Feature"
   ],
   "window_display": false
  }
 },
 "nbformat": 4,
 "nbformat_minor": 2
}
